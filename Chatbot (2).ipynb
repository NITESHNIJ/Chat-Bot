{
  "nbformat": 4,
  "nbformat_minor": 0,
  "metadata": {
    "colab": {
      "name": "Chatbot",
      "version": "0.3.2",
      "provenance": [],
      "collapsed_sections": []
    },
    "kernelspec": {
      "name": "python3",
      "display_name": "Python 3"
    }
  },
  "cells": [
    {
      "cell_type": "markdown",
      "metadata": {
        "id": "EZnljhbNuypP",
        "colab_type": "text"
      },
      "source": [
        "Preprocessing Phase of an asked question:"
      ]
    },
    {
      "cell_type": "code",
      "metadata": {
        "id": "EWf1kqJjuAOz",
        "colab_type": "code",
        "colab": {}
      },
      "source": [
        "import numpy as np\n",
        "\n",
        "stop_words = ['the','is','a','an',',','.','?','/','@','#','&','*','^']\n",
        "symbols = [',','.','?','/','@','#','&','*','^']\n",
        "\n",
        "def preprocessing(question):\n",
        "  pre_words = []\n",
        "  question = question.lower()\n",
        "  words = question.split()\n",
        "  for i in words:\n",
        "    temp = ''\n",
        "    if i in stop_words:\n",
        "      pass\n",
        "    else:\n",
        "      for j in i:\n",
        "        if j in symbols:\n",
        "          pass\n",
        "        else:\n",
        "          temp = temp + j\n",
        "      \n",
        "      pre_words.append(temp)\n",
        "  return pre_words\n",
        "  \n",
        "  "
      ],
      "execution_count": 0,
      "outputs": []
    },
    {
      "cell_type": "markdown",
      "metadata": {
        "id": "H3o1jmiUu82q",
        "colab_type": "text"
      },
      "source": [
        "Converting the input question to word vectors using the given embedding  stored in a dictionary named word_to _vec"
      ]
    },
    {
      "cell_type": "code",
      "metadata": {
        "id": "h1iWHNhZqwvh",
        "colab_type": "code",
        "colab": {}
      },
      "source": [
        "def inp_vec(processed,d):            #d is the dimension of a word vector ie a word vector is (d,)\n",
        "  \n",
        "  m = len(processed)\n",
        "  mat = np.zeros((m,d))\n",
        "  count = 0\n",
        "  \n",
        "  for i in processed:\n",
        "    temp = word_to_vec[i].reshape((1,-1))\n",
        "    mat[count,:] = temp\n",
        "    count = count + 1\n",
        "  return  mat\n",
        "    \n",
        "    "
      ],
      "execution_count": 0,
      "outputs": []
    },
    {
      "cell_type": "markdown",
      "metadata": {
        "id": "uTcJZxNzva_G",
        "colab_type": "text"
      },
      "source": [
        "Assuming our question and answers to be saved in a dictionary named QA.\n",
        "Specifications:\n",
        "find the dot pro with all keys\n",
        "add the sum individualy for each key\n",
        "choose the max sum\n",
        "if sum crosses threshold:\n",
        "     give answer of the matched key as output\n",
        " else:\n",
        "     add a new question to dictonary by asking for its answer\n",
        "     "
      ]
    },
    {
      "cell_type": "code",
      "metadata": {
        "id": "rdf4gfbjuPjc",
        "colab_type": "code",
        "colab": {}
      },
      "source": [
        "def system(ques_mat,threshold1,threshold2):\n",
        "  maxo = 0\n",
        "  pos = -1\n",
        "  count = 0\n",
        "  \n",
        "  for i in QA:\n",
        "    key = np.fromstring(i,dtype=int) \n",
        "    key = key.reshape((d,-1))        #here put the value of d which is the dimension of the word vector\n",
        "    val1 = np.dot(ques_mat,key)\n",
        "    U1 = ques_mat**2                                                      #ques_matric = U, key = V\n",
        "    V1 = key**2\n",
        "    U1_sum = np.sum(U1,axis=1).reshape((-1,1))\n",
        "    V1_sum = np.sum(V1,axis=0).reshape((1,-1))\n",
        "    U1_sum_sq = U1_sum**(1/2)\n",
        "    V1_sum_sq = V1_sum**(1/2)\n",
        "    \n",
        "    \n",
        "    \n",
        "    val2 = val1/U1_sum_sq\n",
        "    val2 = val2/V1_sum_sq\n",
        "    val2 = np.amax(val2, axis=1)\n",
        "    \n",
        "    sumo = 0\n",
        "    for k in val2:\n",
        "      if k>threshold1:\n",
        "        sumo = sumo + k\n",
        "      \n",
        "    if sumo>maxo:\n",
        "      maxo = sumo\n",
        "      pos = count\n",
        "    \n",
        "    count = count + 1\n",
        "    \n",
        "  if maxo > threshold2:\n",
        "    return pos\n",
        "  else:\n",
        "    retrun -1"
      ],
      "execution_count": 0,
      "outputs": []
    },
    {
      "cell_type": "markdown",
      "metadata": {
        "id": "R1xG1RIK1g7B",
        "colab_type": "text"
      },
      "source": [
        "Checking the return from System function ,if -1 the adding to dictionary QA else giving the stored output"
      ]
    },
    {
      "cell_type": "code",
      "metadata": {
        "id": "pFpYhkqp2Izs",
        "colab_type": "code",
        "colab": {}
      },
      "source": [
        "def act_acc_to_system_op(ques_vec,op_from_system):\n",
        "  \n",
        "  if op_from_system == -1:\n",
        "    print(\"The input does not match any of the questions present in the dictionary so please enter an answer to this question:\")\n",
        "    ans = input()\n",
        "    ques = ques_vec.T\n",
        "    str_ques = ques.tobytes()\n",
        "    QA[str_ques] = ans\n",
        "    print(\"Answer saved successfully.\")\n",
        "  else:\n",
        "    count = 0\n",
        "    for j in QA:\n",
        "      if count == op_from_system:\n",
        "        print(QA[j])\n",
        "      count = count + 1\n",
        "    "
      ],
      "execution_count": 0,
      "outputs": []
    },
    {
      "cell_type": "markdown",
      "metadata": {
        "id": "9mmUBXnhBzvF",
        "colab_type": "text"
      },
      "source": [
        "Helper Fuction to make and save the dictionary of questions....\n",
        "not a part of the chatbot, just used initially to make the dictionary of question and answers.\n",
        "It will be run just for one time, while we are making the question whose answers our chatbot has to give.\n"
      ]
    },
    {
      "cell_type": "code",
      "metadata": {
        "id": "woDn5vh-4PY4",
        "colab_type": "code",
        "colab": {}
      },
      "source": [
        "QA = {}\n",
        "def QA_form():\n",
        "  n = int(input())\n",
        "  print(\"So now enter {} questions here onwards:\".format(n))\n",
        "  for i in range(n):\n",
        "    print(\"Enter the question\")\n",
        "    ques = input()\n",
        "    pre_words = preprocessing(ques)\n",
        "    matrice = inp_vec(pre_words,d)     #enter the value of d here\n",
        "    print(\"Enter corresponding answer\")\n",
        "    matrice = matrice.T\n",
        "    str_key = matrice.tobytes()\n",
        "    QA[str_key] = input()\n",
        "  \n",
        "  # Save\n",
        "  np.save('my_file.npy', QA) \n",
        "\n",
        "  # Load\n",
        "  read_dictionary = np.load('my_file.npy').item()\n",
        "    \n",
        "    "
      ],
      "execution_count": 0,
      "outputs": []
    },
    {
      "cell_type": "markdown",
      "metadata": {
        "id": "VhGAa6iSX1zi",
        "colab_type": "text"
      },
      "source": [
        "Rough work here onwards , only for reference."
      ]
    },
    {
      "cell_type": "code",
      "metadata": {
        "id": "OfuEbZipQoaD",
        "colab_type": "code",
        "colab": {}
      },
      "source": [
        ""
      ],
      "execution_count": 0,
      "outputs": []
    }
  ]
}